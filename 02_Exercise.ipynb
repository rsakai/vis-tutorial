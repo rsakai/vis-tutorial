{
 "cells": [
  {
   "cell_type": "markdown",
   "metadata": {},
   "source": [
    "# Antibiotics Data\n",
    "\n",
    "After World War II, antibiotics were considered \"wonder drugs\", as they were an easy remedy for what had been intractable ailments. To learn which drug worked most effectively for which bacterial infection, performance of the three most popular antibiotics on 16 bacteria were gathered.\n",
    "\n",
    "We will use this antibiotics dataset for this exercise."
   ]
  },
  {
   "cell_type": "code",
   "execution_count": 4,
   "metadata": {},
   "outputs": [
    {
     "data": {
      "text/html": [
       "<div>\n",
       "<style scoped>\n",
       "    .dataframe tbody tr th:only-of-type {\n",
       "        vertical-align: middle;\n",
       "    }\n",
       "\n",
       "    .dataframe tbody tr th {\n",
       "        vertical-align: top;\n",
       "    }\n",
       "\n",
       "    .dataframe thead th {\n",
       "        text-align: right;\n",
       "    }\n",
       "</style>\n",
       "<table border=\"1\" class=\"dataframe\">\n",
       "  <thead>\n",
       "    <tr style=\"text-align: right;\">\n",
       "      <th></th>\n",
       "      <th>Bacteria</th>\n",
       "      <th>Penicillin</th>\n",
       "      <th>Streptomycin</th>\n",
       "      <th>Neomycin</th>\n",
       "      <th>Gram_Staining</th>\n",
       "      <th>Genus</th>\n",
       "    </tr>\n",
       "  </thead>\n",
       "  <tbody>\n",
       "    <tr>\n",
       "      <th>0</th>\n",
       "      <td>Aerobacter aerogenes</td>\n",
       "      <td>870.000</td>\n",
       "      <td>1.00</td>\n",
       "      <td>1.600</td>\n",
       "      <td>negative</td>\n",
       "      <td>other</td>\n",
       "    </tr>\n",
       "    <tr>\n",
       "      <th>1</th>\n",
       "      <td>Bacillus anthracis</td>\n",
       "      <td>0.001</td>\n",
       "      <td>0.01</td>\n",
       "      <td>0.007</td>\n",
       "      <td>positive</td>\n",
       "      <td>other</td>\n",
       "    </tr>\n",
       "    <tr>\n",
       "      <th>2</th>\n",
       "      <td>Brucella abortus</td>\n",
       "      <td>1.000</td>\n",
       "      <td>2.00</td>\n",
       "      <td>0.020</td>\n",
       "      <td>negative</td>\n",
       "      <td>other</td>\n",
       "    </tr>\n",
       "    <tr>\n",
       "      <th>3</th>\n",
       "      <td>Diplococcus pneumoniae</td>\n",
       "      <td>0.005</td>\n",
       "      <td>11.00</td>\n",
       "      <td>10.000</td>\n",
       "      <td>positive</td>\n",
       "      <td>other</td>\n",
       "    </tr>\n",
       "    <tr>\n",
       "      <th>4</th>\n",
       "      <td>Escherichia coli</td>\n",
       "      <td>100.000</td>\n",
       "      <td>0.40</td>\n",
       "      <td>0.100</td>\n",
       "      <td>negative</td>\n",
       "      <td>other</td>\n",
       "    </tr>\n",
       "  </tbody>\n",
       "</table>\n",
       "</div>"
      ],
      "text/plain": [
       "                 Bacteria  Penicillin  Streptomycin  Neomycin Gram_Staining  \\\n",
       "0    Aerobacter aerogenes     870.000          1.00     1.600      negative   \n",
       "1      Bacillus anthracis       0.001          0.01     0.007      positive   \n",
       "2        Brucella abortus       1.000          2.00     0.020      negative   \n",
       "3  Diplococcus pneumoniae       0.005         11.00    10.000      positive   \n",
       "4        Escherichia coli     100.000          0.40     0.100      negative   \n",
       "\n",
       "   Genus  \n",
       "0  other  \n",
       "1  other  \n",
       "2  other  \n",
       "3  other  \n",
       "4  other  "
      ]
     },
     "execution_count": 4,
     "metadata": {},
     "output_type": "execute_result"
    }
   ],
   "source": [
    "import altair as alt\n",
    "import pandas as pd\n",
    "import numpy as np\n",
    "\n",
    "antibiotics = pd.read_csv('data/antibiotics.csv')\n",
    "antibiotics.head()"
   ]
  },
  {
   "cell_type": "markdown",
   "metadata": {},
   "source": [
    "The numeric values in the table indicate the [minimum inhibitory concentration (MIC)](https://en.wikipedia.org/wiki/Minimum_inhibitory_concentration), a measure of the effectiveness of the antibiotic, which represents the concentration of antibiotic (in micrograms per milliliter = μg/ml) required to prevent growth in vitro. The reaction of the bacteria to a procedure called [Gram staining](https://en.wikipedia.org/wiki/Gram_stain) is described by the nominal field \\`Gram_Staining\\`. Bacteria that turn dark blue or violet are Gram-positive. Otherwise, they are Gram-negative.\n",
    "\n",
    "Your task for the exercise is to explore the dataset using Altair package, and ask yourself: \n",
    "  - What might we learn about the relative effectiveness of the antibiotics? \n",
    "  - What might we learn about the bacterial species based on their antibiotic response?"
   ]
  },
  {
   "cell_type": "markdown",
   "metadata": {},
   "source": [
    "## Codes"
   ]
  },
  {
   "cell_type": "code",
   "execution_count": 11,
   "metadata": {},
   "outputs": [
    {
     "data": {
      "text/html": [
       "\n",
       "<div id=\"altair-viz-8e421e7d0de749d8be732c109a66d9c8\"></div>\n",
       "<script type=\"text/javascript\">\n",
       "  var VEGA_DEBUG = (typeof VEGA_DEBUG == \"undefined\") ? {} : VEGA_DEBUG;\n",
       "  (function(spec, embedOpt){\n",
       "    let outputDiv = document.currentScript.previousElementSibling;\n",
       "    if (outputDiv.id !== \"altair-viz-8e421e7d0de749d8be732c109a66d9c8\") {\n",
       "      outputDiv = document.getElementById(\"altair-viz-8e421e7d0de749d8be732c109a66d9c8\");\n",
       "    }\n",
       "    const paths = {\n",
       "      \"vega\": \"https://cdn.jsdelivr.net/npm//vega@5?noext\",\n",
       "      \"vega-lib\": \"https://cdn.jsdelivr.net/npm//vega-lib?noext\",\n",
       "      \"vega-lite\": \"https://cdn.jsdelivr.net/npm//vega-lite@4.17.0?noext\",\n",
       "      \"vega-embed\": \"https://cdn.jsdelivr.net/npm//vega-embed@6?noext\",\n",
       "    };\n",
       "\n",
       "    function maybeLoadScript(lib, version) {\n",
       "      var key = `${lib.replace(\"-\", \"\")}_version`;\n",
       "      return (VEGA_DEBUG[key] == version) ?\n",
       "        Promise.resolve(paths[lib]) :\n",
       "        new Promise(function(resolve, reject) {\n",
       "          var s = document.createElement('script');\n",
       "          document.getElementsByTagName(\"head\")[0].appendChild(s);\n",
       "          s.async = true;\n",
       "          s.onload = () => {\n",
       "            VEGA_DEBUG[key] = version;\n",
       "            return resolve(paths[lib]);\n",
       "          };\n",
       "          s.onerror = () => reject(`Error loading script: ${paths[lib]}`);\n",
       "          s.src = paths[lib];\n",
       "        });\n",
       "    }\n",
       "\n",
       "    function showError(err) {\n",
       "      outputDiv.innerHTML = `<div class=\"error\" style=\"color:red;\">${err}</div>`;\n",
       "      throw err;\n",
       "    }\n",
       "\n",
       "    function displayChart(vegaEmbed) {\n",
       "      vegaEmbed(outputDiv, spec, embedOpt)\n",
       "        .catch(err => showError(`Javascript Error: ${err.message}<br>This usually means there's a typo in your chart specification. See the javascript console for the full traceback.`));\n",
       "    }\n",
       "\n",
       "    if(typeof define === \"function\" && define.amd) {\n",
       "      requirejs.config({paths});\n",
       "      require([\"vega-embed\"], displayChart, err => showError(`Error loading script: ${err.message}`));\n",
       "    } else {\n",
       "      maybeLoadScript(\"vega\", \"5\")\n",
       "        .then(() => maybeLoadScript(\"vega-lite\", \"4.17.0\"))\n",
       "        .then(() => maybeLoadScript(\"vega-embed\", \"6\"))\n",
       "        .catch(showError)\n",
       "        .then(() => displayChart(vegaEmbed));\n",
       "    }\n",
       "  })({\"config\": {\"view\": {\"continuousWidth\": 400, \"continuousHeight\": 300}}, \"data\": {\"name\": \"data-8833440f737304311e72aeeffd7b9881\"}, \"mark\": \"point\", \"encoding\": {\"x\": {\"axis\": {\"title\": \"Neomycin MIC (\\u03bcg/ml, reverse log scale)\"}, \"field\": \"Neomycin\", \"scale\": {\"reverse\": true, \"type\": \"log\"}, \"type\": \"quantitative\"}}, \"$schema\": \"https://vega.github.io/schema/vega-lite/v4.17.0.json\", \"datasets\": {\"data-8833440f737304311e72aeeffd7b9881\": [{\"Bacteria\": \"Aerobacter aerogenes\", \"Penicillin\": 870.0, \"Streptomycin\": 1.0, \"Neomycin\": 1.6, \"Gram_Staining\": \"negative\", \"Genus\": \"other\"}, {\"Bacteria\": \"Bacillus anthracis\", \"Penicillin\": 0.001, \"Streptomycin\": 0.01, \"Neomycin\": 0.007, \"Gram_Staining\": \"positive\", \"Genus\": \"other\"}, {\"Bacteria\": \"Brucella abortus\", \"Penicillin\": 1.0, \"Streptomycin\": 2.0, \"Neomycin\": 0.02, \"Gram_Staining\": \"negative\", \"Genus\": \"other\"}, {\"Bacteria\": \"Diplococcus pneumoniae\", \"Penicillin\": 0.005, \"Streptomycin\": 11.0, \"Neomycin\": 10.0, \"Gram_Staining\": \"positive\", \"Genus\": \"other\"}, {\"Bacteria\": \"Escherichia coli\", \"Penicillin\": 100.0, \"Streptomycin\": 0.4, \"Neomycin\": 0.1, \"Gram_Staining\": \"negative\", \"Genus\": \"other\"}, {\"Bacteria\": \"Klebsiella pneumoniae\", \"Penicillin\": 850.0, \"Streptomycin\": 1.2, \"Neomycin\": 1.0, \"Gram_Staining\": \"negative\", \"Genus\": \"other\"}, {\"Bacteria\": \"Mycobacterium tuberculosis\", \"Penicillin\": 800.0, \"Streptomycin\": 5.0, \"Neomycin\": 2.0, \"Gram_Staining\": \"negative\", \"Genus\": \"other\"}, {\"Bacteria\": \"Proteus vulgaris\", \"Penicillin\": 3.0, \"Streptomycin\": 0.1, \"Neomycin\": 0.1, \"Gram_Staining\": \"negative\", \"Genus\": \"other\"}, {\"Bacteria\": \"Pseudomonas aeruginosa\", \"Penicillin\": 850.0, \"Streptomycin\": 2.0, \"Neomycin\": 0.4, \"Gram_Staining\": \"negative\", \"Genus\": \"other\"}, {\"Bacteria\": \"Salmonella (Eberthella) typhosa\", \"Penicillin\": 1.0, \"Streptomycin\": 0.4, \"Neomycin\": 0.008, \"Gram_Staining\": \"negative\", \"Genus\": \"Salmonella\"}, {\"Bacteria\": \"Salmonella schottmuelleri\", \"Penicillin\": 10.0, \"Streptomycin\": 0.8, \"Neomycin\": 0.09, \"Gram_Staining\": \"negative\", \"Genus\": \"Salmonella\"}, {\"Bacteria\": \"Staphylococcus albus\", \"Penicillin\": 0.007, \"Streptomycin\": 0.1, \"Neomycin\": 0.001, \"Gram_Staining\": \"positive\", \"Genus\": \"Staphylococcus\"}, {\"Bacteria\": \"Staphylococcus aureus\", \"Penicillin\": 0.03, \"Streptomycin\": 0.03, \"Neomycin\": 0.001, \"Gram_Staining\": \"positive\", \"Genus\": \"Staphylococcus\"}, {\"Bacteria\": \"Streptococcus fecalis\", \"Penicillin\": 1.0, \"Streptomycin\": 1.0, \"Neomycin\": 0.1, \"Gram_Staining\": \"positive\", \"Genus\": \"Streptococcus\"}, {\"Bacteria\": \"Streptococcus hemolyticus\", \"Penicillin\": 0.001, \"Streptomycin\": 14.0, \"Neomycin\": 10.0, \"Gram_Staining\": \"positive\", \"Genus\": \"Streptococcus\"}, {\"Bacteria\": \"Streptococcus viridans\", \"Penicillin\": 0.005, \"Streptomycin\": 10.0, \"Neomycin\": 40.0, \"Gram_Staining\": \"positive\", \"Genus\": \"Streptococcus\"}]}}, {\"mode\": \"vega-lite\"});\n",
       "</script>"
      ],
      "text/plain": [
       "alt.Chart(...)"
      ]
     },
     "execution_count": 11,
     "metadata": {},
     "output_type": "execute_result"
    }
   ],
   "source": [
    "# To get you started here is an example:\n",
    "alt.Chart(antibiotics).mark_point().encode(\n",
    "  alt.X('Neomycin:Q', \n",
    "  scale=alt.Scale(type=\"log\", reverse=True), \n",
    "  axis=alt.Axis(title='Neomycin MIC (μg/ml, reverse log scale)'))\n",
    ")"
   ]
  },
  {
   "cell_type": "code",
   "execution_count": 5,
   "metadata": {},
   "outputs": [],
   "source": [
    "# Your code here"
   ]
  },
  {
   "cell_type": "markdown",
   "metadata": {},
   "source": [
    "## Reference\n",
    "- [Burtin's legendary Data on Antibiotics](https://medium.com/@harshdev_41068/burtins-legendary-data-on-antibiotics-9b32ecd5943f)\n",
    "- [Wikipedia - Will Burtin](https://en.wikipedia.org/wiki/Will_Burtin)"
   ]
  }
 ],
 "metadata": {
  "kernelspec": {
   "display_name": "Python 3.10.6 ('vis-tutorial')",
   "language": "python",
   "name": "python3"
  },
  "language_info": {
   "codemirror_mode": {
    "name": "ipython",
    "version": 3
   },
   "file_extension": ".py",
   "mimetype": "text/x-python",
   "name": "python",
   "nbconvert_exporter": "python",
   "pygments_lexer": "ipython3",
   "version": "3.10.6"
  },
  "orig_nbformat": 4,
  "vscode": {
   "interpreter": {
    "hash": "213291fa97d9e16921a551f607a4fc497c150c9b266594cd4a00183f43c6effc"
   }
  }
 },
 "nbformat": 4,
 "nbformat_minor": 2
}
